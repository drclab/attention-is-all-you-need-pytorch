{
 "cells": [
  {
   "cell_type": "code",
   "execution_count": 1,
   "metadata": {},
   "outputs": [],
   "source": [
    "TRAIN_DATA_SOURCES = [\n",
    "    {\"url\": \"http://data.statmt.org/wmt17/translation-task/\" \\\n",
    "             \"training-parallel-nc-v12.tgz\",\n",
    "     \"trg\": \"news-commentary-v12.de-en.en\",\n",
    "     \"src\": \"news-commentary-v12.de-en.de\"},\n",
    "    #{\"url\": \"http://www.statmt.org/wmt13/training-parallel-commoncrawl.tgz\",\n",
    "    # \"trg\": \"commoncrawl.de-en.en\",\n",
    "    # \"src\": \"commoncrawl.de-en.de\"},\n",
    "    #{\"url\": \"http://www.statmt.org/wmt13/training-parallel-europarl-v7.tgz\",\n",
    "    # \"trg\": \"europarl-v7.de-en.en\",\n",
    "    # \"src\": \"europarl-v7.de-en.de\"}\n",
    "    ]"
   ]
  },
  {
   "cell_type": "code",
   "execution_count": 46,
   "metadata": {},
   "outputs": [],
   "source": [
    "url = TRAIN_DATA_SOURCES[0]['url']\n",
    "src_file_name = TRAIN_DATA_SOURCES[0]['src']\n",
    "trg_file_name = TRAIN_DATA_SOURCES[0]['trg']"
   ]
  },
  {
   "cell_type": "code",
   "execution_count": 9,
   "metadata": {},
   "outputs": [],
   "source": [
    "import os"
   ]
  },
  {
   "cell_type": "code",
   "execution_count": 13,
   "metadata": {},
   "outputs": [],
   "source": [
    "home = os.environ['HOME']"
   ]
  },
  {
   "cell_type": "code",
   "execution_count": 16,
   "metadata": {},
   "outputs": [],
   "source": [
    "download_dir = f\"{home}/attention/\""
   ]
  },
  {
   "cell_type": "code",
   "execution_count": 19,
   "metadata": {},
   "outputs": [],
   "source": [
    "if not os.path.isdir(download_dir):\n",
    "    os.mkdir(download_dir)"
   ]
  },
  {
   "cell_type": "code",
   "execution_count": 43,
   "metadata": {},
   "outputs": [
    {
     "name": "stdout",
     "output_type": "stream",
     "text": [
      "('/home/drclab/attention/', ['training'], ['training-parallel-nc-v12.tgz'])\n",
      "('/home/drclab/attention/training', [], ['news-commentary-v12.es-en.es', 'news-commentary-v12.zh-en.zh', 'news-commentary-v12.es-en.en', 'news-commentary-v12.fr-en.fr', 'news-commentary-v12.zh-en.en', 'news-commentary-v12.ru-en.ru', 'news-commentary-v12.de-en.en', 'news-commentary-v12.cs-en.en', 'news-commentary-v12.fr-en.en', 'news-commentary-v12.de-en.de', 'news-commentary-v12.ru-en.en', 'news-commentary-v12.cs-en.cs'])\n"
     ]
    }
   ],
   "source": [
    "for item in os.walk(download_dir):\n",
    "    print(item)"
   ]
  },
  {
   "cell_type": "code",
   "execution_count": 37,
   "metadata": {},
   "outputs": [],
   "source": [
    "tar_file = download_dir + url.split('/')[-1]"
   ]
  },
  {
   "cell_type": "code",
   "execution_count": 28,
   "metadata": {},
   "outputs": [],
   "source": [
    "from tqdm import tqdm"
   ]
  },
  {
   "cell_type": "code",
   "execution_count": 30,
   "metadata": {},
   "outputs": [],
   "source": [
    "import urllib"
   ]
  },
  {
   "cell_type": "code",
   "execution_count": 33,
   "metadata": {},
   "outputs": [],
   "source": [
    "class TqdmUpTo(tqdm):\n",
    "    def update_to(self, b=1, bsize=1, tsize=None):\n",
    "        if tsize is not None:\n",
    "            self.total = tsize\n",
    "        self.update(b * bsize - self.n)"
   ]
  },
  {
   "cell_type": "code",
   "execution_count": 38,
   "metadata": {},
   "outputs": [
    {
     "name": "stderr",
     "output_type": "stream",
     "text": [
      "/home/drclab/attention/training-parallel-nc-v12.tgz: 169MB [00:36, 4.64MB/s]                              \n"
     ]
    }
   ],
   "source": [
    "with TqdmUpTo(unit='B', unit_scale=True, miniters=1, desc=file_name) as t:\n",
    "    urllib.request.urlretrieve(url=url, filename=tar_file, reporthook=t.update_to)"
   ]
  },
  {
   "cell_type": "code",
   "execution_count": 39,
   "metadata": {},
   "outputs": [],
   "source": [
    "import tarfile"
   ]
  },
  {
   "cell_type": "code",
   "execution_count": 42,
   "metadata": {},
   "outputs": [],
   "source": [
    "with tarfile.open(tar_file, \"r:gz\") as corpus_tar:\n",
    "    corpus_tar.extractall(download_dir)\n"
   ]
  },
  {
   "cell_type": "code",
   "execution_count": 47,
   "metadata": {},
   "outputs": [],
   "source": [
    "src_path = \"\"\n",
    "trg_path = \"\""
   ]
  },
  {
   "cell_type": "code",
   "execution_count": 50,
   "metadata": {},
   "outputs": [],
   "source": [
    "for sub_dir, _, files in os.walk(download_dir):\n",
    "    if src_file_name in files:\n",
    "        src_path = os.path.join(sub_dir, src_file_name)\n",
    "    if trg_file_name in files:\n",
    "        trg_path = os.path.join(sub_dir, trg_file_name)"
   ]
  },
  {
   "cell_type": "code",
   "execution_count": 49,
   "metadata": {},
   "outputs": [
    {
     "data": {
      "text/plain": [
       "'/home/drclab/attention/training/news-commentary-v12.de-en.de'"
      ]
     },
     "execution_count": 49,
     "metadata": {},
     "output_type": "execute_result"
    }
   ],
   "source": [
    "src_path"
   ]
  },
  {
   "cell_type": "code",
   "execution_count": 51,
   "metadata": {},
   "outputs": [
    {
     "data": {
      "text/plain": [
       "'/home/drclab/attention/training/news-commentary-v12.de-en.en'"
      ]
     },
     "execution_count": 51,
     "metadata": {},
     "output_type": "execute_result"
    }
   ],
   "source": [
    "trg_path"
   ]
  }
 ],
 "metadata": {
  "kernelspec": {
   "display_name": "Python 3",
   "language": "python",
   "name": "python3"
  },
  "language_info": {
   "codemirror_mode": {
    "name": "ipython",
    "version": 3
   },
   "file_extension": ".py",
   "mimetype": "text/x-python",
   "name": "python",
   "nbconvert_exporter": "python",
   "pygments_lexer": "ipython3",
   "version": "3.10.6"
  },
  "orig_nbformat": 4,
  "vscode": {
   "interpreter": {
    "hash": "31f2aee4e71d21fbe5cf8b01ff0e069b9275f58929596ceb00d14d90e3e16cd6"
   }
  }
 },
 "nbformat": 4,
 "nbformat_minor": 2
}
