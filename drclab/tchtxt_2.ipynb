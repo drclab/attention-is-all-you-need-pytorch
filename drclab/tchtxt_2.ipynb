{
 "cells": [
  {
   "attachments": {},
   "cell_type": "markdown",
   "metadata": {},
   "source": [
    "## [**NLP FROM SCRATCH: TRANSLATION WITH A SEQUENCE TO SEQUENCE NETWORK AND ATTENTION**](https://pytorch.org/tutorials/intermediate/seq2seq_translation_tutorial.html#nlp-from-scratch-translation-with-a-sequence-to-sequence-network-and-attention)"
   ]
  },
  {
   "attachments": {},
   "cell_type": "markdown",
   "metadata": {},
   "source": [
    "### This is the third and final tutorial on doing “NLP From Scratch”, where we write our own classes and functions to preprocess the data to do our NLP modeling tasks. We hope after you complete this tutorial that you’ll proceed to learn how torchtext can handle much of this preprocessing for you in the three tutorials immediately following this one."
   ]
  },
  {
   "attachments": {},
   "cell_type": "markdown",
   "metadata": {},
   "source": [
    "#### [KEY: > input, = target, < output]"
   ]
  },
  {
   "attachments": {},
   "cell_type": "markdown",
   "metadata": {},
   "source": [
    "\\> il est en train de peindre un tableau .\n",
    "\n",
    "= he is painting a picture .\n",
    "\n",
    "< he is painting a picture ."
   ]
  },
  {
   "attachments": {},
   "cell_type": "markdown",
   "metadata": {},
   "source": [
    "This is made possible by the simple but powerful idea of the sequence to sequence network, in which two recurrent neural networks work together to transform one sequence to another. An encoder network condenses an input sequence into a vector, and a decoder network unfolds that vector into a new sequence."
   ]
  },
  {
   "attachments": {},
   "cell_type": "markdown",
   "metadata": {},
   "source": [
    "![](https://pytorch.org/tutorials/_images/seq2seq.png)"
   ]
  },
  {
   "attachments": {},
   "cell_type": "markdown",
   "metadata": {},
   "source": [
    "To improve upon this model we’ll use an attention mechanism, which lets the decoder learn to focus over a specific range of the input sequence."
   ]
  },
  {
   "cell_type": "code",
   "execution_count": 2,
   "metadata": {},
   "outputs": [],
   "source": [
    "from __future__ import unicode_literals, print_function, division\n",
    "from io import open\n",
    "import unicodedata\n",
    "import string\n",
    "import re\n",
    "import random\n",
    "\n",
    "import torch\n",
    "import torch.nn as nn\n",
    "from torch import optim\n",
    "import torch.nn.functional as F\n",
    "\n",
    "device = torch.device(\"cuda\" if torch.cuda.is_available() else \"cpu\")"
   ]
  },
  {
   "cell_type": "code",
   "execution_count": 3,
   "metadata": {},
   "outputs": [],
   "source": [
    "url = \"https://download.pytorch.org/tutorial/data.zip\""
   ]
  },
  {
   "cell_type": "code",
   "execution_count": 4,
   "metadata": {},
   "outputs": [],
   "source": [
    "home = os.environ['HOME']\n",
    "data_dir = f\"{home}/torch/\"\n",
    "file_dir = data_dir + \"data/\""
   ]
  },
  {
   "cell_type": "code",
   "execution_count": 5,
   "metadata": {},
   "outputs": [],
   "source": [
    "SOS_token = 0\n",
    "EOS_token = 1"
   ]
  },
  {
   "cell_type": "code",
   "execution_count": 6,
   "metadata": {},
   "outputs": [],
   "source": [
    "class Lang:\n",
    "    def __init__(self, name) -> None:\n",
    "        self.name = name\n",
    "        self.word2index = {}\n",
    "        self.word2count = {}\n",
    "        self.index2word = {0: 'SOS', 1: 'EOS'}\n",
    "        self.n_words = 2\n",
    "    \n",
    "    def addWord(self, word):\n",
    "        if word not in self.word2index:\n",
    "            self.word2index[word] = self.n_words\n",
    "            self.word2count[word] = 1\n",
    "            self.index2word[self.n_words] = word\n",
    "            self.n_words += 1\n",
    "        else:\n",
    "            self.word2count[word] += 1\n",
    "    \n",
    "    def addSentence(self, sentence):\n",
    "        for w in sentence.split(' '):\n",
    "            self.addWord(w)\n"
   ]
  },
  {
   "cell_type": "code",
   "execution_count": 7,
   "metadata": {},
   "outputs": [],
   "source": [
    "def unicodeToAscii(s):\n",
    "    return ''.join(\n",
    "        c for c in unicodedata.normalize('NFD', s)\n",
    "        if unicodedata.category(c) != 'Mn'\n",
    "    )"
   ]
  },
  {
   "cell_type": "code",
   "execution_count": 8,
   "metadata": {},
   "outputs": [],
   "source": [
    "# Lowercase, trim, and remove non-letter characters\n",
    "def normalizeString(s):\n",
    "    s = unicodeToAscii(s.lower().strip())\n",
    "    s = re.sub(r\"([.!?])\", r\" \\1\", s) # \\1 is the pattern in r\"([.!?])\"\n",
    "    s = re.sub(r\"[^a-zA-Z.!?]+\", r\" \", s)\n",
    "    return s"
   ]
  },
  {
   "cell_type": "code",
   "execution_count": 9,
   "metadata": {},
   "outputs": [
    {
     "data": {
      "text/plain": [
       "'adf ?'"
      ]
     },
     "execution_count": 9,
     "metadata": {},
     "output_type": "execute_result"
    }
   ],
   "source": [
    "normalizeString(' Adf56?')"
   ]
  },
  {
   "cell_type": "code",
   "execution_count": 10,
   "metadata": {},
   "outputs": [],
   "source": [
    "def read_Langs(lang1, lang2, reverse=False):\n",
    "    file_name = file_dir + f\"{lang1}-{lang2}.txt\"\n",
    "    lines = (open(file_name, encoding='utf-8').\n",
    "                read().strip().split('\\n'))\n",
    "    \n",
    "    pairs = [[normalizeString(s) for s in l.split('\\t')] for l in lines]\n",
    "\n",
    "    if reverse:\n",
    "        pairs= [list(reversed(p)) for p in pairs]\n",
    "        input_lang = Lang(lang2)\n",
    "        output_lang = Lang(lang1)\n",
    "\n",
    "    else:\n",
    "        input_lang = Lang(lang1)\n",
    "        output_lang = Lang(lang2)\n",
    "    \n",
    "    return input_lang, output_lang, pairs"
   ]
  },
  {
   "attachments": {},
   "cell_type": "markdown",
   "metadata": {},
   "source": [
    "##### Since there are a lot of example sentences and we want to train something quickly, we’ll trim the data set to only relatively short and simple sentences. Here the maximum length is 10 words (that includes ending punctuation) and we’re filtering to sentences that translate to the form “I am” or “He is” etc. (accounting for apostrophes replaced earlier)."
   ]
  },
  {
   "cell_type": "code",
   "execution_count": 11,
   "metadata": {},
   "outputs": [],
   "source": [
    "eng_prefixes = (\n",
    "    \"i am \", \"i m \",\n",
    "    \"he is\", \"he s \",\n",
    "    \"she is\", \"she s \",\n",
    "    \"you are\", \"you re \",\n",
    "    \"we are\", \"we re \",\n",
    "    \"they are\", \"they re \"\n",
    ")"
   ]
  },
  {
   "cell_type": "code",
   "execution_count": 12,
   "metadata": {},
   "outputs": [],
   "source": [
    "MAX_LENGTH = 10  # filtering sentences with up to 10 words"
   ]
  },
  {
   "cell_type": "code",
   "execution_count": 13,
   "metadata": {},
   "outputs": [],
   "source": [
    "def filter_Pair(p):\n",
    "    return (\n",
    "        len(p[0].split(' ')) < MAX_LENGTH and \n",
    "        len(p[1].split(' ')) < MAX_LENGTH and\n",
    "        p[1].startswith(eng_prefixes)\n",
    "    )"
   ]
  },
  {
   "cell_type": "code",
   "execution_count": 14,
   "metadata": {},
   "outputs": [],
   "source": [
    "def filterPairs(pairs):\n",
    "    return [pair for pair in pairs if filter_Pair(pair)]"
   ]
  },
  {
   "attachments": {},
   "cell_type": "markdown",
   "metadata": {},
   "source": [
    "The full process for preparing the data is:\n",
    "\n",
    "1. Read text file and split into lines, split lines into pairs\n",
    "\n",
    "2. Normalize text, filter by length and content\n",
    "\n",
    "3. Make word lists from sentences in pairs"
   ]
  },
  {
   "cell_type": "code",
   "execution_count": 15,
   "metadata": {},
   "outputs": [],
   "source": [
    "def prepareData(lang1, lang2, reverse=False):\n",
    "    input_lang, output_lang, pairs = read_Langs(lang1, lang2, reverse)\n",
    "    print(\"Read %s sentence pairs\" % len(pairs))\n",
    "    pairs = filterPairs(pairs)\n",
    "    print(\"Trimmed to %s sentence pairs\" % len(pairs))\n",
    "    \n",
    "    print(\"Counting words...\")\n",
    "    for pair in pairs:\n",
    "        input_lang.addSentence(pair[0])\n",
    "        output_lang.addSentence(pair[1])\n",
    "    print(\"Counted words:\")\n",
    "    print(input_lang.name, input_lang.n_words)\n",
    "    print(output_lang.name, output_lang.n_words)\n",
    "    return input_lang, output_lang, pairs"
   ]
  },
  {
   "cell_type": "code",
   "execution_count": 16,
   "metadata": {},
   "outputs": [
    {
     "name": "stdout",
     "output_type": "stream",
     "text": [
      "Read 135842 sentence pairs\n",
      "Trimmed to 10599 sentence pairs\n",
      "Counting words...\n",
      "Counted words:\n",
      "fra 4345\n",
      "eng 2803\n"
     ]
    }
   ],
   "source": [
    "input_lang, output_lang, pairs = prepareData('eng', 'fra', True)"
   ]
  },
  {
   "cell_type": "code",
   "execution_count": 17,
   "metadata": {},
   "outputs": [
    {
     "data": {
      "text/plain": [
       "['vous n etes pas differents .', 'you re no different .']"
      ]
     },
     "execution_count": 17,
     "metadata": {},
     "output_type": "execute_result"
    }
   ],
   "source": [
    "random.choice(pairs)"
   ]
  },
  {
   "attachments": {},
   "cell_type": "markdown",
   "metadata": {},
   "source": [
    "### [The Seq2Seq Model](https://pytorch.org/tutorials/intermediate/seq2seq_translation_tutorial.html#the-seq2seq-model)"
   ]
  },
  {
   "attachments": {},
   "cell_type": "markdown",
   "metadata": {},
   "source": [
    "##### A Recurrent Neural Network, or RNN, is a network that operates on a sequence and uses its own output as input for subsequent steps. A Sequence to Sequence network, or seq2seq network, or Encoder Decoder network, is a model consisting of two RNNs called the encoder and decoder. The encoder reads an input sequence and outputs a single vector, and the decoder reads that vector to produce an output sequence."
   ]
  },
  {
   "attachments": {},
   "cell_type": "markdown",
   "metadata": {},
   "source": [
    "![](https://pytorch.org/tutorials/_images/seq2seq.png)"
   ]
  },
  {
   "attachments": {},
   "cell_type": "markdown",
   "metadata": {},
   "source": [
    "##### Unlike sequence prediction with a single RNN, where every input corresponds to an output, the seq2seq model frees us from sequence length and order, which makes it ideal for translation between two languages. Consider the sentence “Je ne suis pas le chat noir” → “I am not the black cat”. Most of the words in the input sentence have a direct translation in the output sentence, but are in slightly different orders, e.g. “chat noir” and “black cat”. Because of the “ne/pas” construction there is also one more word in the input sentence. It would be difficult to produce a correct translation directly from the sequence of input words. With a seq2seq model the encoder creates a single vector which, in the ideal case, encodes the “meaning” of the input sequence into a single vector — a single point in some N dimensional space of sentences."
   ]
  },
  {
   "attachments": {},
   "cell_type": "markdown",
   "metadata": {},
   "source": [
    "### The Encoder"
   ]
  },
  {
   "attachments": {},
   "cell_type": "markdown",
   "metadata": {},
   "source": [
    "![](https://pytorch.org/tutorials/_images/encoder-network.png)"
   ]
  },
  {
   "attachments": {},
   "cell_type": "markdown",
   "metadata": {},
   "source": [
    "[nn.Embedding](https://medium.com/@gautam.e/what-is-nn-embedding-really-de038baadd24)"
   ]
  },
  {
   "cell_type": "code",
   "execution_count": 18,
   "metadata": {},
   "outputs": [],
   "source": [
    "class EncoderRNN(nn.Module):\n",
    "    def __init__(self, input_size, hidden_size) -> None:\n",
    "        super(EncoderRNN, self).__init__()\n",
    "        self.hidden_size = hidden_size\n",
    "        self.embedding = nn.Embedding(input_size, hidden_size)\n",
    "        self.gru = nn.GRU(hidden_size, hidden_size)\n",
    "\n",
    "    def forward(self, input, hidden):\n",
    "        #print(input)\n",
    "        # w_embedding just needed the indices of row to do a lookup\n",
    "        embed = self.embedding(input).view(1,1,-1)\n",
    "        #print(embed.size())\n",
    "        output = embed\n",
    "        output, hidden = self.gru(output, hidden)\n",
    "        return output, hidden\n",
    "\n",
    "    def init_Hidden(self):\n",
    "        return torch.zeros(1,1, self.hidden_size, device=device)"
   ]
  },
  {
   "attachments": {},
   "cell_type": "markdown",
   "metadata": {},
   "source": [
    "![](https://i.imgur.com/1152PYf.png)"
   ]
  },
  {
   "attachments": {},
   "cell_type": "markdown",
   "metadata": {},
   "source": [
    "![](https://pytorch.org/tutorials/_images/attention-decoder-network.png)"
   ]
  },
  {
   "cell_type": "code",
   "execution_count": 19,
   "metadata": {},
   "outputs": [],
   "source": [
    "class AttnDecoderRNN(nn.Module):\n",
    "    def __init__(self, hidden_size, output_size, dropout_p = 0.1, max_length=MAX_LENGTH) -> None:\n",
    "        super(AttnDecoderRNN, self).__init__()\n",
    "\n",
    "        self.hidden_size = hidden_size\n",
    "        self.output_size = output_size\n",
    "        self.dropout_p = dropout_p\n",
    "        self.max_length = max_length\n",
    "\n",
    "        self.embedding = nn.Embedding(self.output_size, self.hidden_size)\n",
    "        self.attn = nn.Linear(self.hidden_size * 2, self.max_length)\n",
    "        self.attn_combine = nn.Linear(self.hidden_size * 2, self.hidden_size)\n",
    "\n",
    "        self.dropout = nn.Dropout(self.dropout_p)\n",
    "        self.gru = nn.GRU(self.hidden_size, self.hidden_size)\n",
    "\n",
    "        self.out = nn.Linear(self.hidden_size, self.output_size)\n",
    "\n",
    "    def forward(self, input, hidden, encoder_outputs):\n",
    "        embed = self.embedding(input).view(1,1,-1)\n",
    "        embed = self.dropout(embed)\n",
    "        attn_weights = F.softmax(\n",
    "                self.attn(torch.cat((embed[0], hidden[0]), 1)),\n",
    "                dim=1\n",
    "            )\n",
    "\n",
    "        attn_applied = torch.bmm(attn_weights.unsqueeze(0), encoder_outputs.unsqueeze(0))\n",
    "        output = torch.cat((embed[0], attn_applied[0]), 1)\n",
    "        output = self.attn_combine(output).unsqueeze(0)\n",
    "\n",
    "        output = F.relu(output)\n",
    "        output, hidden = self.gru(output, hidden)\n",
    "\n",
    "        output = F.log_softmax(self.out(output[0]), dim=1)\n",
    "        return output, hidden, attn_weights\n",
    "\n",
    "    def init_Hidden(self):\n",
    "        return torch.zeros(1,1, self.hidden_size, device= device)"
   ]
  },
  {
   "attachments": {},
   "cell_type": "markdown",
   "metadata": {},
   "source": [
    "### [Training](https://pytorch.org/tutorials/intermediate/seq2seq_translation_tutorial.html#training)"
   ]
  },
  {
   "attachments": {},
   "cell_type": "markdown",
   "metadata": {},
   "source": [
    "#### To train, for each pair we will need an input tensor (indexes of the words in the input sentence) and target tensor (indexes of the words in the target sentence). While creating these vectors we will append the EOS token to both sequences."
   ]
  },
  {
   "cell_type": "code",
   "execution_count": 20,
   "metadata": {},
   "outputs": [],
   "source": [
    "def indxFromSentence(lang, sentence):\n",
    "    return [lang.word2index[word] for word in sentence.split(' ')]\n"
   ]
  },
  {
   "cell_type": "code",
   "execution_count": 21,
   "metadata": {},
   "outputs": [],
   "source": [
    "def tensorFromSentence(lang, sentence):\n",
    "    indexes = indxFromSentence(lang, sentence)\n",
    "    indexes.append(EOS_token)\n",
    "    return torch.tensor(indexes, dtype=torch.long, device=device).view(-1, 1)"
   ]
  },
  {
   "cell_type": "code",
   "execution_count": 22,
   "metadata": {},
   "outputs": [],
   "source": [
    "def tensorsFromPair(pair):\n",
    "    input_tensor = tensorFromSentence(input_lang, pair[0])\n",
    "    target_tensor = tensorFromSentence(output_lang, pair[1])\n",
    "    return (input_tensor, target_tensor)"
   ]
  },
  {
   "cell_type": "code",
   "execution_count": 23,
   "metadata": {},
   "outputs": [],
   "source": [
    "pr = random.choice(pairs)"
   ]
  },
  {
   "cell_type": "code",
   "execution_count": 24,
   "metadata": {},
   "outputs": [],
   "source": [
    "input_tensor, target_tensor = tensorsFromPair(pr)"
   ]
  },
  {
   "attachments": {},
   "cell_type": "markdown",
   "metadata": {},
   "source": [
    "### [Tarin Model](https://pytorch.org/tutorials/intermediate/seq2seq_translation_tutorial.html#training-the-model)"
   ]
  },
  {
   "attachments": {},
   "cell_type": "markdown",
   "metadata": {},
   "source": [
    "#### To train we run the input sentence through the encoder, and keep track of every output and the latest hidden state. Then the decoder is given the <SOS> token as its first input, and the last hidden state of the encoder as its first hidden state."
   ]
  },
  {
   "attachments": {},
   "cell_type": "markdown",
   "metadata": {},
   "source": [
    "##### “**Teacher forcing**” is the concept of using the real target outputs as each next input, instead of using the decoder’s guess as the next input. Using teacher forcing causes it to converge faster but when the trained network is exploited, it may exhibit instability."
   ]
  },
  {
   "cell_type": "code",
   "execution_count": 25,
   "metadata": {},
   "outputs": [],
   "source": [
    "learning_rate = 0.01\n",
    "hidden_size = 256\n",
    "encoder1 = EncoderRNN(input_lang.n_words, hidden_size).to(device)\n",
    "attn_decoder1 = AttnDecoderRNN(hidden_size, output_lang.n_words, dropout_p=0.1).to(device)\n",
    "\n",
    "encoder_optimizer = optim.SGD(encoder1.parameters(), lr=learning_rate)\n",
    "decoder_optimizer = optim.SGD(attn_decoder1.parameters(), lr=learning_rate)\n",
    "\n",
    "criterion = nn.NLLLoss()"
   ]
  },
  {
   "cell_type": "code",
   "execution_count": 26,
   "metadata": {},
   "outputs": [],
   "source": [
    "def train_Pair(\n",
    "        input_tensor,\n",
    "        target_tensor,\n",
    "        encoder,\n",
    "        encod_optim,\n",
    "        decoder,\n",
    "        decod_optim,\n",
    "        criterion,\n",
    "        max_length = MAX_LENGTH\n",
    "    ):\n",
    "    encoder_hidden = encoder.init_Hidden()\n",
    "    encod_optim.zero_grad()\n",
    "    decod_optim.zero_grad()\n",
    "\n",
    "    input_length = input_tensor.size(0)\n",
    "    target_length = target_tensor.size(0)\n",
    "    #print(encoder_hidden.size(), input_length, target_length)\n",
    "    encoder_outputs = torch.zeros(\n",
    "            max_length, encoder.hidden_size, device=device\n",
    "    )\n",
    "    \n",
    "    loss = 0\n",
    "\n",
    "    for ei in range(input_length):\n",
    "        encoder_output, encoder_hidden = encoder(\n",
    "            input_tensor[ei], encoder_hidden\n",
    "        )\n",
    "        #print(encoder_output.size())\n",
    "        encoder_outputs[ei] = encoder_output[0, 0]\n",
    "\n",
    "    # print(encoder_outputs.size()) == [10, 256]\n",
    "\n",
    "    decoder_input = torch.tensor([[SOS_token]], device=device)\n",
    "    decoder_hidden = encoder_hidden\n",
    "\n",
    "    for di in range(target_length):\n",
    "         \n",
    "        decoder_output, decoder_hidden, decoder_attn = decoder(\n",
    "            decoder_input, decoder_hidden, encoder_outputs\n",
    "        )\n",
    "\n",
    "        loss += criterion(decoder_output, target_tensor[di])\n",
    "        decoder_input = target_tensor[di]\n",
    "        \n",
    "    loss.backward()\n",
    "    encoder_optimizer.step()\n",
    "    decoder_optimizer.step()\n",
    "\n",
    "    return loss.item() / target_length"
   ]
  },
  {
   "cell_type": "code",
   "execution_count": 27,
   "metadata": {},
   "outputs": [
    {
     "data": {
      "text/plain": [
       "7.908318519592285"
      ]
     },
     "execution_count": 27,
     "metadata": {},
     "output_type": "execute_result"
    }
   ],
   "source": [
    "train_Pair(input_tensor, target_tensor, \n",
    "            encoder1, encoder_optimizer, \n",
    "            attn_decoder1, decoder_optimizer, \n",
    "            criterion)"
   ]
  },
  {
   "attachments": {},
   "cell_type": "markdown",
   "metadata": {},
   "source": [
    "Helper functions"
   ]
  },
  {
   "cell_type": "code",
   "execution_count": 28,
   "metadata": {},
   "outputs": [],
   "source": [
    "import matplotlib.pyplot as plt"
   ]
  },
  {
   "cell_type": "code",
   "execution_count": 29,
   "metadata": {},
   "outputs": [],
   "source": [
    "import time\n",
    "import math\n",
    "\n",
    "def asMinutes(s):\n",
    "    m = math.floor(s / 60)\n",
    "    s -= m * 60\n",
    "    return '%dm %ds' % (m, s)\n",
    "\n",
    "def timeSince(since, percent):\n",
    "    now = time.time()\n",
    "    s = now - since\n",
    "    es = s / (percent)\n",
    "    rs = es - s\n",
    "    return '%s (- %s)' % (asMinutes(s), asMinutes(rs))"
   ]
  },
  {
   "cell_type": "code",
   "execution_count": 30,
   "metadata": {},
   "outputs": [],
   "source": [
    "def train_Iterations(\n",
    "        n_iters,\n",
    "        print_every = 1000,\n",
    "        plot_every = 100\n",
    "    ):\n",
    "    start = time.time()\n",
    "    plot_losses = []\n",
    "    print_loss_total = 0\n",
    "    plot_loss_total = 0\n",
    "\n",
    "    train_pairs = [\n",
    "        tensorsFromPair(random.choice(pairs)) for i in range(n_iters)\n",
    "    ]\n",
    " \n",
    "\n",
    "    for iter in range(1, n_iters + 1):\n",
    "        train_pair = train_pairs[iter -1]\n",
    "        input_tensor = train_pair[0]\n",
    "        target_tensor = train_pair[1]\n",
    "\n",
    "        loss = train_Pair(input_tensor, target_tensor, \n",
    "                            encoder1, encoder_optimizer, \n",
    "                            attn_decoder1, decoder_optimizer, \n",
    "                             criterion)\n",
    "\n",
    "        print_loss_total += loss\n",
    "        plot_loss_total += loss\n",
    "\n",
    "        if iter % print_every == 0:\n",
    "            print_loss_avg = print_loss_total / print_every\n",
    "            print(\n",
    "                '%s (%d, %d%%) %.4f' % (\n",
    "                    timeSince(start, iter / n_iters),\n",
    "                    iter,\n",
    "                    iter / n_iters * 100,\n",
    "                    print_loss_avg\n",
    "                )\n",
    "            )\n",
    "            print_loss_total = 0\n",
    "\n",
    "        if iter % plot_every == 0:\n",
    "            plot_loss_avg = plot_loss_total / plot_every\n",
    "            plot_losses.append(plot_loss_avg)\n",
    "            plot_loss_total = 0\n",
    "\n",
    "    return plot_losses\n"
   ]
  },
  {
   "cell_type": "code",
   "execution_count": 31,
   "metadata": {},
   "outputs": [
    {
     "name": "stdout",
     "output_type": "stream",
     "text": [
      "1m 41s (- 125m 42s) (1000, 1%) 3.3710\n",
      "3m 27s (- 126m 15s) (2000, 2%) 2.6703\n",
      "5m 7s (- 122m 51s) (3000, 4%) 2.4327\n",
      "6m 42s (- 119m 0s) (4000, 5%) 2.2852\n",
      "8m 20s (- 116m 48s) (5000, 6%) 2.2316\n",
      "10m 1s (- 115m 19s) (6000, 8%) 2.1339\n",
      "11m 28s (- 111m 26s) (7000, 9%) 1.9757\n",
      "12m 54s (- 108m 10s) (8000, 10%) 1.9681\n",
      "14m 21s (- 105m 17s) (9000, 12%) 1.8674\n",
      "15m 47s (- 102m 35s) (10000, 13%) 1.7822\n",
      "17m 20s (- 100m 54s) (11000, 14%) 1.7301\n",
      "18m 54s (- 99m 17s) (12000, 16%) 1.6526\n",
      "20m 19s (- 96m 56s) (13000, 17%) 1.6751\n",
      "21m 44s (- 94m 45s) (14000, 18%) 1.6082\n",
      "23m 10s (- 92m 43s) (15000, 20%) 1.5617\n",
      "24m 36s (- 90m 44s) (16000, 21%) 1.4597\n",
      "26m 19s (- 89m 47s) (17000, 22%) 1.4735\n",
      "28m 21s (- 89m 46s) (18000, 24%) 1.4329\n",
      "29m 57s (- 88m 16s) (19000, 25%) 1.3692\n",
      "31m 29s (- 86m 36s) (20000, 26%) 1.3298\n",
      "33m 4s (- 85m 2s) (21000, 28%) 1.3152\n",
      "34m 38s (- 83m 27s) (22000, 29%) 1.2741\n",
      "36m 14s (- 81m 55s) (23000, 30%) 1.2197\n",
      "37m 47s (- 80m 17s) (24000, 32%) 1.2301\n",
      "39m 25s (- 78m 50s) (25000, 33%) 1.1910\n",
      "41m 1s (- 77m 18s) (26000, 34%) 1.1729\n",
      "42m 44s (- 75m 58s) (27000, 36%) 1.1496\n",
      "44m 13s (- 74m 13s) (28000, 37%) 1.1125\n",
      "46m 6s (- 73m 7s) (29000, 38%) 1.0382\n",
      "47m 42s (- 71m 33s) (30000, 40%) 1.0648\n",
      "49m 16s (- 69m 56s) (31000, 41%) 1.0167\n",
      "50m 56s (- 68m 27s) (32000, 42%) 0.9715\n",
      "52m 30s (- 66m 49s) (33000, 44%) 0.9312\n",
      "54m 3s (- 65m 10s) (34000, 45%) 0.9318\n",
      "55m 37s (- 63m 34s) (35000, 46%) 0.9303\n",
      "57m 11s (- 61m 57s) (36000, 48%) 0.9097\n",
      "58m 47s (- 60m 22s) (37000, 49%) 0.9032\n",
      "60m 27s (- 58m 52s) (38000, 50%) 0.8746\n",
      "61m 49s (- 57m 4s) (39000, 52%) 0.7977\n",
      "63m 18s (- 55m 23s) (40000, 53%) 0.7786\n",
      "64m 46s (- 53m 43s) (41000, 54%) 0.7812\n",
      "66m 14s (- 52m 2s) (42000, 56%) 0.7661\n",
      "67m 41s (- 50m 22s) (43000, 57%) 0.7894\n",
      "69m 9s (- 48m 43s) (44000, 58%) 0.7380\n",
      "70m 37s (- 47m 5s) (45000, 60%) 0.7280\n",
      "72m 6s (- 45m 27s) (46000, 61%) 0.7166\n",
      "73m 33s (- 43m 49s) (47000, 62%) 0.7031\n",
      "75m 1s (- 42m 11s) (48000, 64%) 0.6575\n",
      "76m 28s (- 40m 34s) (49000, 65%) 0.6666\n",
      "77m 56s (- 38m 58s) (50000, 66%) 0.6535\n",
      "79m 24s (- 37m 22s) (51000, 68%) 0.6749\n",
      "80m 52s (- 35m 46s) (52000, 69%) 0.6391\n",
      "82m 20s (- 34m 10s) (53000, 70%) 0.6216\n",
      "83m 47s (- 32m 35s) (54000, 72%) 0.5770\n",
      "85m 14s (- 30m 59s) (55000, 73%) 0.5968\n",
      "86m 43s (- 29m 25s) (56000, 74%) 0.5687\n",
      "88m 10s (- 27m 50s) (57000, 76%) 0.5355\n",
      "89m 38s (- 26m 16s) (58000, 77%) 0.5636\n",
      "91m 5s (- 24m 42s) (59000, 78%) 0.5312\n",
      "92m 33s (- 23m 8s) (60000, 80%) 0.5322\n",
      "93m 55s (- 21m 33s) (61000, 81%) 0.5226\n",
      "95m 19s (- 19m 59s) (62000, 82%) 0.4898\n",
      "96m 43s (- 18m 25s) (63000, 84%) 0.4815\n",
      "98m 6s (- 16m 51s) (64000, 85%) 0.4729\n",
      "99m 30s (- 15m 18s) (65000, 86%) 0.4715\n",
      "101m 19s (- 13m 49s) (66000, 88%) 0.4893\n",
      "102m 56s (- 12m 17s) (67000, 89%) 0.4668\n",
      "104m 17s (- 10m 44s) (68000, 90%) 0.4716\n",
      "105m 41s (- 9m 11s) (69000, 92%) 0.4620\n",
      "106m 54s (- 7m 38s) (70000, 93%) 0.4390\n",
      "108m 41s (- 6m 7s) (71000, 94%) 0.4080\n",
      "110m 5s (- 4m 35s) (72000, 96%) 0.3923\n",
      "111m 22s (- 3m 3s) (73000, 97%) 0.3763\n",
      "112m 41s (- 1m 31s) (74000, 98%) 0.3864\n",
      "114m 10s (- 0m 0s) (75000, 100%) 0.3865\n"
     ]
    }
   ],
   "source": [
    "losses = train_Iterations(75000)"
   ]
  },
  {
   "cell_type": "code",
   "execution_count": 32,
   "metadata": {},
   "outputs": [
    {
     "data": {
      "text/plain": [
       "[<matplotlib.lines.Line2D at 0x7fc75e080040>]"
      ]
     },
     "execution_count": 32,
     "metadata": {},
     "output_type": "execute_result"
    },
    {
     "data": {
      "image/png": "[encoded data removed]",
      "text/plain": [
       "<Figure size 640x480 with 1 Axes>"
      ]
     },
     "metadata": {},
     "output_type": "display_data"
    }
   ],
   "source": [
    "plt.plot(losses)"
   ]
  },
  {
   "attachments": {},
   "cell_type": "markdown",
   "metadata": {},
   "source": [
    "### [Evaluation](https://pytorch.org/tutorials/intermediate/seq2seq_translation_tutorial.html#evaluation)"
   ]
  },
  {
   "attachments": {},
   "cell_type": "markdown",
   "metadata": {},
   "source": [
    "#### Evaluation is mostly the same as training, but there are no targets so we simply feed the decoder’s predictions back to itself for each step. Every time it predicts a word we add it to the output string, and if it predicts the EOS token we stop there. We also store the decoder’s attention outputs for display later."
   ]
  },
  {
   "cell_type": "code",
   "execution_count": 84,
   "metadata": {},
   "outputs": [],
   "source": [
    "def evaluate(encoder, decoder, sentence, max_length=MAX_LENGTH):\n",
    "    #print(sentence)\n",
    "    with torch.no_grad():\n",
    "        input_tensor = tensorFromSentence(input_lang, sentence)\n",
    "        #print(input_tensor)\n",
    "        input_length = input_tensor.size()[0]\n",
    "        encoder_hidden = encoder.init_Hidden()\n",
    "\n",
    "        encoder_outputs = torch.zeros(max_length, encoder.hidden_size, device=device)\n",
    "\n",
    "        for ei in range(input_length):\n",
    "            encoder_output, encoder_hidden = encoder(input_tensor[ei], encoder_hidden)\n",
    "            encoder_outputs[ei] += encoder_output[0,0]\n",
    "\n",
    "        decoder_input = torch.tensor([[SOS_token]], device=device)       \n",
    "        decoder_hidden = encoder_hidden\n",
    "        decoded_words = []\n",
    "\n",
    "        decoder_attentions = torch.zeros(max_length, max_length)\n",
    "\n",
    "        for di in range(max_length):\n",
    "            decoder_output, decoder_hidden, decoder_attn = decoder(\n",
    "                decoder_input, decoder_hidden, encoder_outputs\n",
    "            )\n",
    "\n",
    "            decoder_attentions[di] = decoder_attn.data\n",
    "\n",
    "            topv, topi = decoder_output.data.topk(1)\n",
    "            if topi.item() == EOS_token:\n",
    "                decoded_words.append('<EOS>')\n",
    "                break\n",
    "            else:\n",
    "                decoded_words.append(\n",
    "                    output_lang.index2word[topi.item()]\n",
    "                )\n",
    "\n",
    "            decoder_input = topi.squeeze().detach()\n",
    "\n",
    "        return decoded_words, decoder_attentions[:di+1]"
   ]
  },
  {
   "cell_type": "code",
   "execution_count": 91,
   "metadata": {},
   "outputs": [],
   "source": [
    "def evaluate_Randomly(encoder, decoder, n=10):\n",
    "    for i in range(n):\n",
    "        pair = random.choice(pairs)\n",
    "        print('>', pair[0])\n",
    "        print('=', pair[1])\n",
    "        out_words, out_attns = evaluate(encoder, decoder, pair[0])\n",
    "        out_sentence = ' '.join(out_words)\n",
    "        print('<', out_sentence)"
   ]
  },
  {
   "cell_type": "code",
   "execution_count": 92,
   "metadata": {},
   "outputs": [
    {
     "name": "stdout",
     "output_type": "stream",
     "text": [
      "> je suis juste a l exterieur .\n",
      "= i m right outside .\n",
      "< i m right outside . <EOS>\n",
      "> les jeans sont en rupture de stock .\n",
      "= we are sold out of jeans .\n",
      "< we are sold out of jeans . <EOS>\n",
      "> vous avez probablement raison .\n",
      "= you re probably right .\n",
      "< you re probably right . <EOS>\n",
      "> nous sommes en retard .\n",
      "= we re behind schedule .\n",
      "< we re late . <EOS>\n",
      "> nous y sommes tous ensemble .\n",
      "= we re all in this together .\n",
      "< we re all in this together . <EOS>\n",
      "> je ne vais pas te revoir .\n",
      "= i m not going to see you again .\n",
      "< i m not giving you again . <EOS>\n",
      "> nous sommes bourres .\n",
      "= we re plastered .\n",
      "< we re smashed . <EOS>\n",
      "> je suis desolee de t avoir fait peur .\n",
      "= i m sorry if i scared you .\n",
      "< i m sorry i yelled at you . <EOS>\n",
      "> vous etes influent .\n",
      "= you re influential .\n",
      "< you re skinny . <EOS>\n",
      "> tu commets une grosse erreur .\n",
      "= you re making a big mistake .\n",
      "< you re making a terrible mistake . <EOS>\n"
     ]
    }
   ],
   "source": [
    "evaluate_Randomly(encoder1, attn_decoder1)"
   ]
  },
  {
   "attachments": {},
   "cell_type": "markdown",
   "metadata": {},
   "source": [
    "### [Visualizing Attention](https://pytorch.org/tutorials/intermediate/seq2seq_translation_tutorial.html#visualizing-attention)"
   ]
  },
  {
   "attachments": {},
   "cell_type": "markdown",
   "metadata": {},
   "source": [
    "#### A useful property of the attention mechanism is its highly interpretable outputs. Because it is used to weight specific encoder outputs of the input sequence, we can imagine looking where the network is focused most at each time step."
   ]
  }
 ],
 "metadata": {
  "kernelspec": {
   "display_name": "Python 3",
   "language": "python",
   "name": "python3"
  },
  "language_info": {
   "codemirror_mode": {
    "name": "ipython",
    "version": 3
   },
   "file_extension": ".py",
   "mimetype": "text/x-python",
   "name": "python",
   "nbconvert_exporter": "python",
   "pygments_lexer": "ipython3",
   "version": "3.10.6"
  },
  "orig_nbformat": 4,
  "vscode": {
   "interpreter": {
    "hash": "31f2aee4e71d21fbe5cf8b01ff0e069b9275f58929596ceb00d14d90e3e16cd6"
   }
  }
 },
 "nbformat": 4,
 "nbformat_minor": 2
}
